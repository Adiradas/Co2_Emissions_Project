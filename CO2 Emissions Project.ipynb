{
 "cells": [
  {
   "cell_type": "markdown",
   "id": "5572edb7",
   "metadata": {},
   "source": [
    "# OIL AND GAS EMISSIONS"
   ]
  },
  {
   "cell_type": "markdown",
   "id": "1ce6a99f",
   "metadata": {},
   "source": [
    "## Project Statement:\n",
    "1. This dataset provides an in depth look into the global CO2 emissions at the country level, allowing for a better understanding on how much a country contributes to the global cumulative human impact on climate.\n",
    "\n",
    "2. Columns : It contains total information as well as coal, oil, gas, cement production and flaring and other resources.\n",
    "\n",
    "3. The dataset also provides a breakdown of per-capita CO2 emission per country -showing the countries are leading in pollution levels and identifying potential areas where the reduction efforts shoukd be concentrated.\n",
    "\n",
    "4. The dataset is essential for anyone who is concerned about its own environmental footprint or conduct on intentional development trends."
   ]
  },
  {
   "cell_type": "markdown",
   "id": "d59989dc",
   "metadata": {},
   "source": [
    "## Project dictionary:\n",
    "\n",
    "DATAFRAMES:\n",
    "\n",
    "DF1: Mt CO2\n",
    "\n",
    "DF2: per capita\n",
    "\n",
    "DF3: sources\n",
    "\n",
    "Country: The name of the country. (String)\n",
    "\n",
    "ISO 3166-1 alpha-3: The three-letter code for the country. (String)\n",
    "\n",
    "Year: The year of the data. (Integer)\n",
    "\n",
    "Total: The total amount of CO2 emissions for the country in the given year. (Float)\n",
    "\n",
    "Coal: The amount of CO2 emissions from coal for the country in the given year. (Float)\n",
    "\n",
    "Oil: The amount of CO2 emissions from oil for the country in the given year. (Float)\n",
    "\n",
    "Gas: The amount of CO2 emissions from gas for the country in the given year. (Float)\n",
    "\n",
    "Cement: The amount of CO2 emissions from cement production for the country in the given year. (Float)\n",
    "\n",
    "Flaring: The amount of CO2 emissions from flaring operations for the country in the given year. (Float)\n",
    "\n",
    "Other: The amount of CO2 emissions from other sources for the country in the given year. (Float)\n",
    "\n",
    "Per Capita: The amount of CO2 emissions per capita for the country in the given year. (Float)\n",
    "\n",
    "Data Source Citation: Andrew, Robbie M., & Peters, Glen P. (2022). The Global Carbon Project's fossil CO2 emissions dataset (2022v27) [Data set]. Zenodo."
   ]
  },
  {
   "cell_type": "code",
   "execution_count": 1,
   "id": "9415dff4",
   "metadata": {},
   "outputs": [],
   "source": [
    "#IMPORTING LIBRARIES\n",
    "import pandas as pd\n",
    "import numpy as np"
   ]
  },
  {
   "cell_type": "code",
   "execution_count": 2,
   "id": "d37c3000",
   "metadata": {},
   "outputs": [],
   "source": [
    "#EDA and VISUALISATION\n",
    "import seaborn as sns\n",
    "import matplotlib.pyplot as plt\n",
    "import plotly.offline as po\n",
    "import plotly.graph_objs as pg"
   ]
  },
  {
   "cell_type": "code",
   "execution_count": 3,
   "id": "314dfd2b",
   "metadata": {},
   "outputs": [],
   "source": [
    "#changing the decimal points for floats in the dataset\n",
    "pd.options.display.float_format = '{:.2f}'.format"
   ]
  },
  {
   "cell_type": "code",
   "execution_count": 4,
   "id": "2b8a5cd1",
   "metadata": {},
   "outputs": [],
   "source": [
    "df1=pd.read_csv(r\"C:\\Users\\HP\\Documents\\DATA SCIENCE\\PYTHON EDA PROJECTS\\Oil and Gas CO2 emissions\\Oil-and-Gas-Emissions-Tracking-main\\GCB2022v27_MtCO2_flat.csv\")"
   ]
  },
  {
   "cell_type": "code",
   "execution_count": 5,
   "id": "fae57cc9",
   "metadata": {},
   "outputs": [],
   "source": [
    "df2=pd.read_csv(r\"C:\\Users\\HP\\Documents\\DATA SCIENCE\\PYTHON EDA PROJECTS\\Oil and Gas CO2 emissions\\Oil-and-Gas-Emissions-Tracking-main\\GCB2022v27_percapita_flat.csv\")"
   ]
  },
  {
   "cell_type": "code",
   "execution_count": 6,
   "id": "89f46345",
   "metadata": {},
   "outputs": [],
   "source": [
    "df3=pd.read_csv(r\"C:\\Users\\HP\\Documents\\DATA SCIENCE\\PYTHON EDA PROJECTS\\Oil and Gas CO2 emissions\\Oil-and-Gas-Emissions-Tracking-main\\GCB2022v27_sources_flat.csv\")"
   ]
  },
  {
   "cell_type": "code",
   "execution_count": 7,
   "id": "4ecf6545",
   "metadata": {},
   "outputs": [
    {
     "data": {
      "text/html": [
       "<div>\n",
       "<style scoped>\n",
       "    .dataframe tbody tr th:only-of-type {\n",
       "        vertical-align: middle;\n",
       "    }\n",
       "\n",
       "    .dataframe tbody tr th {\n",
       "        vertical-align: top;\n",
       "    }\n",
       "\n",
       "    .dataframe thead th {\n",
       "        text-align: right;\n",
       "    }\n",
       "</style>\n",
       "<table border=\"1\" class=\"dataframe\">\n",
       "  <thead>\n",
       "    <tr style=\"text-align: right;\">\n",
       "      <th></th>\n",
       "      <th>Country</th>\n",
       "      <th>ISO 3166-1 alpha-3</th>\n",
       "      <th>Year</th>\n",
       "      <th>Total</th>\n",
       "      <th>Coal</th>\n",
       "      <th>Oil</th>\n",
       "      <th>Gas</th>\n",
       "      <th>Cement</th>\n",
       "      <th>Flaring</th>\n",
       "      <th>Other</th>\n",
       "      <th>Per Capita</th>\n",
       "    </tr>\n",
       "  </thead>\n",
       "  <tbody>\n",
       "    <tr>\n",
       "      <th>0</th>\n",
       "      <td>Afghanistan</td>\n",
       "      <td>AFG</td>\n",
       "      <td>1750</td>\n",
       "      <td>0.00</td>\n",
       "      <td>NaN</td>\n",
       "      <td>NaN</td>\n",
       "      <td>NaN</td>\n",
       "      <td>NaN</td>\n",
       "      <td>NaN</td>\n",
       "      <td>NaN</td>\n",
       "      <td>NaN</td>\n",
       "    </tr>\n",
       "    <tr>\n",
       "      <th>1</th>\n",
       "      <td>Afghanistan</td>\n",
       "      <td>AFG</td>\n",
       "      <td>1751</td>\n",
       "      <td>0.00</td>\n",
       "      <td>NaN</td>\n",
       "      <td>NaN</td>\n",
       "      <td>NaN</td>\n",
       "      <td>NaN</td>\n",
       "      <td>NaN</td>\n",
       "      <td>NaN</td>\n",
       "      <td>NaN</td>\n",
       "    </tr>\n",
       "    <tr>\n",
       "      <th>2</th>\n",
       "      <td>Afghanistan</td>\n",
       "      <td>AFG</td>\n",
       "      <td>1752</td>\n",
       "      <td>0.00</td>\n",
       "      <td>NaN</td>\n",
       "      <td>NaN</td>\n",
       "      <td>NaN</td>\n",
       "      <td>NaN</td>\n",
       "      <td>NaN</td>\n",
       "      <td>NaN</td>\n",
       "      <td>NaN</td>\n",
       "    </tr>\n",
       "    <tr>\n",
       "      <th>3</th>\n",
       "      <td>Afghanistan</td>\n",
       "      <td>AFG</td>\n",
       "      <td>1753</td>\n",
       "      <td>0.00</td>\n",
       "      <td>NaN</td>\n",
       "      <td>NaN</td>\n",
       "      <td>NaN</td>\n",
       "      <td>NaN</td>\n",
       "      <td>NaN</td>\n",
       "      <td>NaN</td>\n",
       "      <td>NaN</td>\n",
       "    </tr>\n",
       "    <tr>\n",
       "      <th>4</th>\n",
       "      <td>Afghanistan</td>\n",
       "      <td>AFG</td>\n",
       "      <td>1754</td>\n",
       "      <td>0.00</td>\n",
       "      <td>NaN</td>\n",
       "      <td>NaN</td>\n",
       "      <td>NaN</td>\n",
       "      <td>NaN</td>\n",
       "      <td>NaN</td>\n",
       "      <td>NaN</td>\n",
       "      <td>NaN</td>\n",
       "    </tr>\n",
       "  </tbody>\n",
       "</table>\n",
       "</div>"
      ],
      "text/plain": [
       "       Country ISO 3166-1 alpha-3  Year  Total  Coal  Oil  Gas  Cement  \\\n",
       "0  Afghanistan                AFG  1750   0.00   NaN  NaN  NaN     NaN   \n",
       "1  Afghanistan                AFG  1751   0.00   NaN  NaN  NaN     NaN   \n",
       "2  Afghanistan                AFG  1752   0.00   NaN  NaN  NaN     NaN   \n",
       "3  Afghanistan                AFG  1753   0.00   NaN  NaN  NaN     NaN   \n",
       "4  Afghanistan                AFG  1754   0.00   NaN  NaN  NaN     NaN   \n",
       "\n",
       "   Flaring  Other  Per Capita  \n",
       "0      NaN    NaN         NaN  \n",
       "1      NaN    NaN         NaN  \n",
       "2      NaN    NaN         NaN  \n",
       "3      NaN    NaN         NaN  \n",
       "4      NaN    NaN         NaN  "
      ]
     },
     "execution_count": 7,
     "metadata": {},
     "output_type": "execute_result"
    }
   ],
   "source": [
    "df1.head()"
   ]
  },
  {
   "cell_type": "code",
   "execution_count": 8,
   "id": "e4fcd197",
   "metadata": {},
   "outputs": [
    {
     "name": "stdout",
     "output_type": "stream",
     "text": [
      "<class 'pandas.core.frame.DataFrame'>\n",
      "RangeIndex: 63104 entries, 0 to 63103\n",
      "Data columns (total 11 columns):\n",
      " #   Column              Non-Null Count  Dtype  \n",
      "---  ------              --------------  -----  \n",
      " 0   Country             63104 non-null  object \n",
      " 1   ISO 3166-1 alpha-3  61472 non-null  object \n",
      " 2   Year                63104 non-null  int64  \n",
      " 3   Total               62904 non-null  float64\n",
      " 4   Coal                21744 non-null  float64\n",
      " 5   Oil                 21717 non-null  float64\n",
      " 6   Gas                 21618 non-null  float64\n",
      " 7   Cement              20814 non-null  float64\n",
      " 8   Flaring             21550 non-null  float64\n",
      " 9   Other               1620 non-null   float64\n",
      " 10  Per Capita          18974 non-null  float64\n",
      "dtypes: float64(8), int64(1), object(2)\n",
      "memory usage: 5.3+ MB\n"
     ]
    }
   ],
   "source": [
    "df1.info()"
   ]
  },
  {
   "cell_type": "code",
   "execution_count": 9,
   "id": "02609170",
   "metadata": {},
   "outputs": [
    {
     "data": {
      "text/html": [
       "<div>\n",
       "<style scoped>\n",
       "    .dataframe tbody tr th:only-of-type {\n",
       "        vertical-align: middle;\n",
       "    }\n",
       "\n",
       "    .dataframe tbody tr th {\n",
       "        vertical-align: top;\n",
       "    }\n",
       "\n",
       "    .dataframe thead th {\n",
       "        text-align: right;\n",
       "    }\n",
       "</style>\n",
       "<table border=\"1\" class=\"dataframe\">\n",
       "  <thead>\n",
       "    <tr style=\"text-align: right;\">\n",
       "      <th></th>\n",
       "      <th>Country</th>\n",
       "      <th>ISO 3166-1 alpha-3</th>\n",
       "      <th>Year</th>\n",
       "      <th>Total</th>\n",
       "      <th>Coal</th>\n",
       "      <th>Oil</th>\n",
       "      <th>Gas</th>\n",
       "      <th>Cement</th>\n",
       "      <th>Flaring</th>\n",
       "      <th>Other</th>\n",
       "      <th>Per Capita</th>\n",
       "    </tr>\n",
       "  </thead>\n",
       "  <tbody>\n",
       "    <tr>\n",
       "      <th>63099</th>\n",
       "      <td>Global</td>\n",
       "      <td>WLD</td>\n",
       "      <td>2017</td>\n",
       "      <td>36096.74</td>\n",
       "      <td>14506.97</td>\n",
       "      <td>12242.63</td>\n",
       "      <td>7144.93</td>\n",
       "      <td>1507.92</td>\n",
       "      <td>391.99</td>\n",
       "      <td>302.29</td>\n",
       "      <td>4.75</td>\n",
       "    </tr>\n",
       "    <tr>\n",
       "      <th>63100</th>\n",
       "      <td>Global</td>\n",
       "      <td>WLD</td>\n",
       "      <td>2018</td>\n",
       "      <td>36826.51</td>\n",
       "      <td>14746.83</td>\n",
       "      <td>12266.02</td>\n",
       "      <td>7529.85</td>\n",
       "      <td>1569.22</td>\n",
       "      <td>412.12</td>\n",
       "      <td>302.48</td>\n",
       "      <td>4.79</td>\n",
       "    </tr>\n",
       "    <tr>\n",
       "      <th>63101</th>\n",
       "      <td>Global</td>\n",
       "      <td>WLD</td>\n",
       "      <td>2019</td>\n",
       "      <td>37082.56</td>\n",
       "      <td>14725.98</td>\n",
       "      <td>12345.65</td>\n",
       "      <td>7647.53</td>\n",
       "      <td>1617.51</td>\n",
       "      <td>439.25</td>\n",
       "      <td>306.64</td>\n",
       "      <td>4.78</td>\n",
       "    </tr>\n",
       "    <tr>\n",
       "      <th>63102</th>\n",
       "      <td>Global</td>\n",
       "      <td>WLD</td>\n",
       "      <td>2020</td>\n",
       "      <td>35264.09</td>\n",
       "      <td>14174.56</td>\n",
       "      <td>11191.81</td>\n",
       "      <td>7556.29</td>\n",
       "      <td>1637.54</td>\n",
       "      <td>407.58</td>\n",
       "      <td>296.30</td>\n",
       "      <td>4.50</td>\n",
       "    </tr>\n",
       "    <tr>\n",
       "      <th>63103</th>\n",
       "      <td>Global</td>\n",
       "      <td>WLD</td>\n",
       "      <td>2021</td>\n",
       "      <td>37123.85</td>\n",
       "      <td>14979.60</td>\n",
       "      <td>11837.16</td>\n",
       "      <td>7921.83</td>\n",
       "      <td>1672.59</td>\n",
       "      <td>416.53</td>\n",
       "      <td>296.15</td>\n",
       "      <td>4.69</td>\n",
       "    </tr>\n",
       "  </tbody>\n",
       "</table>\n",
       "</div>"
      ],
      "text/plain": [
       "      Country ISO 3166-1 alpha-3  Year    Total     Coal      Oil     Gas  \\\n",
       "63099  Global                WLD  2017 36096.74 14506.97 12242.63 7144.93   \n",
       "63100  Global                WLD  2018 36826.51 14746.83 12266.02 7529.85   \n",
       "63101  Global                WLD  2019 37082.56 14725.98 12345.65 7647.53   \n",
       "63102  Global                WLD  2020 35264.09 14174.56 11191.81 7556.29   \n",
       "63103  Global                WLD  2021 37123.85 14979.60 11837.16 7921.83   \n",
       "\n",
       "       Cement  Flaring  Other  Per Capita  \n",
       "63099 1507.92   391.99 302.29        4.75  \n",
       "63100 1569.22   412.12 302.48        4.79  \n",
       "63101 1617.51   439.25 306.64        4.78  \n",
       "63102 1637.54   407.58 296.30        4.50  \n",
       "63103 1672.59   416.53 296.15        4.69  "
      ]
     },
     "execution_count": 9,
     "metadata": {},
     "output_type": "execute_result"
    }
   ],
   "source": [
    "df1.tail()"
   ]
  },
  {
   "cell_type": "code",
   "execution_count": 10,
   "id": "081b00c1",
   "metadata": {},
   "outputs": [
    {
     "data": {
      "text/plain": [
       "(63104, 11)"
      ]
     },
     "execution_count": 10,
     "metadata": {},
     "output_type": "execute_result"
    }
   ],
   "source": [
    "df1.shape"
   ]
  },
  {
   "cell_type": "markdown",
   "id": "eb29a12f",
   "metadata": {},
   "source": [
    "since we can see a lot of nan values, hence we do some inspection of the data."
   ]
  },
  {
   "cell_type": "code",
   "execution_count": 11,
   "id": "55370a40",
   "metadata": {},
   "outputs": [
    {
     "data": {
      "text/plain": [
       "Country                object\n",
       "ISO 3166-1 alpha-3     object\n",
       "Year                    int64\n",
       "Total                 float64\n",
       "Coal                  float64\n",
       "Oil                   float64\n",
       "Gas                   float64\n",
       "Cement                float64\n",
       "Flaring               float64\n",
       "Other                 float64\n",
       "Per Capita            float64\n",
       "dtype: object"
      ]
     },
     "execution_count": 11,
     "metadata": {},
     "output_type": "execute_result"
    }
   ],
   "source": [
    "df1.dtypes"
   ]
  },
  {
   "cell_type": "markdown",
   "id": "2fa0246a",
   "metadata": {},
   "source": [
    "From dtypes we see that there are 3 diffrent kinds of data types: String values[object], integer values[int] and Decimal values[float]."
   ]
  },
  {
   "cell_type": "code",
   "execution_count": 12,
   "id": "2dcb4a7b",
   "metadata": {},
   "outputs": [
    {
     "data": {
      "text/plain": [
       "Country                   0\n",
       "ISO 3166-1 alpha-3     1632\n",
       "Year                      0\n",
       "Total                   200\n",
       "Coal                  41360\n",
       "Oil                   41387\n",
       "Gas                   41486\n",
       "Cement                42290\n",
       "Flaring               41554\n",
       "Other                 61484\n",
       "Per Capita            44130\n",
       "dtype: int64"
      ]
     },
     "execution_count": 12,
     "metadata": {},
     "output_type": "execute_result"
    }
   ],
   "source": [
    "df1.isna().sum()"
   ]
  },
  {
   "cell_type": "code",
   "execution_count": 13,
   "id": "c5e679b3",
   "metadata": {},
   "outputs": [
    {
     "data": {
      "text/html": [
       "<div>\n",
       "<style scoped>\n",
       "    .dataframe tbody tr th:only-of-type {\n",
       "        vertical-align: middle;\n",
       "    }\n",
       "\n",
       "    .dataframe tbody tr th {\n",
       "        vertical-align: top;\n",
       "    }\n",
       "\n",
       "    .dataframe thead th {\n",
       "        text-align: right;\n",
       "    }\n",
       "</style>\n",
       "<table border=\"1\" class=\"dataframe\">\n",
       "  <thead>\n",
       "    <tr style=\"text-align: right;\">\n",
       "      <th></th>\n",
       "      <th>Year</th>\n",
       "      <th>Total</th>\n",
       "      <th>Coal</th>\n",
       "      <th>Oil</th>\n",
       "      <th>Gas</th>\n",
       "      <th>Cement</th>\n",
       "      <th>Flaring</th>\n",
       "      <th>Other</th>\n",
       "      <th>Per Capita</th>\n",
       "    </tr>\n",
       "  </thead>\n",
       "  <tbody>\n",
       "    <tr>\n",
       "      <th>count</th>\n",
       "      <td>63104.00</td>\n",
       "      <td>62904.00</td>\n",
       "      <td>21744.00</td>\n",
       "      <td>21717.00</td>\n",
       "      <td>21618.00</td>\n",
       "      <td>20814.00</td>\n",
       "      <td>21550.00</td>\n",
       "      <td>1620.00</td>\n",
       "      <td>18974.00</td>\n",
       "    </tr>\n",
       "    <tr>\n",
       "      <th>mean</th>\n",
       "      <td>1885.50</td>\n",
       "      <td>55.22</td>\n",
       "      <td>73.97</td>\n",
       "      <td>55.76</td>\n",
       "      <td>23.50</td>\n",
       "      <td>4.33</td>\n",
       "      <td>1.71</td>\n",
       "      <td>10.95</td>\n",
       "      <td>4.41</td>\n",
       "    </tr>\n",
       "    <tr>\n",
       "      <th>std</th>\n",
       "      <td>78.52</td>\n",
       "      <td>824.85</td>\n",
       "      <td>598.99</td>\n",
       "      <td>519.03</td>\n",
       "      <td>247.67</td>\n",
       "      <td>50.31</td>\n",
       "      <td>16.73</td>\n",
       "      <td>39.03</td>\n",
       "      <td>17.43</td>\n",
       "    </tr>\n",
       "    <tr>\n",
       "      <th>min</th>\n",
       "      <td>1750.00</td>\n",
       "      <td>0.00</td>\n",
       "      <td>0.00</td>\n",
       "      <td>0.00</td>\n",
       "      <td>0.00</td>\n",
       "      <td>0.00</td>\n",
       "      <td>0.00</td>\n",
       "      <td>0.00</td>\n",
       "      <td>0.00</td>\n",
       "    </tr>\n",
       "    <tr>\n",
       "      <th>25%</th>\n",
       "      <td>1817.75</td>\n",
       "      <td>0.00</td>\n",
       "      <td>0.00</td>\n",
       "      <td>0.09</td>\n",
       "      <td>0.00</td>\n",
       "      <td>0.00</td>\n",
       "      <td>0.00</td>\n",
       "      <td>0.52</td>\n",
       "      <td>0.20</td>\n",
       "    </tr>\n",
       "    <tr>\n",
       "      <th>50%</th>\n",
       "      <td>1885.50</td>\n",
       "      <td>0.00</td>\n",
       "      <td>0.27</td>\n",
       "      <td>1.04</td>\n",
       "      <td>0.00</td>\n",
       "      <td>0.02</td>\n",
       "      <td>0.00</td>\n",
       "      <td>1.26</td>\n",
       "      <td>1.30</td>\n",
       "    </tr>\n",
       "    <tr>\n",
       "      <th>75%</th>\n",
       "      <td>1953.25</td>\n",
       "      <td>0.55</td>\n",
       "      <td>6.74</td>\n",
       "      <td>8.34</td>\n",
       "      <td>0.58</td>\n",
       "      <td>0.57</td>\n",
       "      <td>0.00</td>\n",
       "      <td>4.39</td>\n",
       "      <td>5.08</td>\n",
       "    </tr>\n",
       "    <tr>\n",
       "      <th>max</th>\n",
       "      <td>2021.00</td>\n",
       "      <td>37123.85</td>\n",
       "      <td>15051.51</td>\n",
       "      <td>12345.65</td>\n",
       "      <td>7921.83</td>\n",
       "      <td>1672.59</td>\n",
       "      <td>439.25</td>\n",
       "      <td>306.64</td>\n",
       "      <td>834.19</td>\n",
       "    </tr>\n",
       "  </tbody>\n",
       "</table>\n",
       "</div>"
      ],
      "text/plain": [
       "          Year    Total     Coal      Oil      Gas   Cement  Flaring   Other  \\\n",
       "count 63104.00 62904.00 21744.00 21717.00 21618.00 20814.00 21550.00 1620.00   \n",
       "mean   1885.50    55.22    73.97    55.76    23.50     4.33     1.71   10.95   \n",
       "std      78.52   824.85   598.99   519.03   247.67    50.31    16.73   39.03   \n",
       "min    1750.00     0.00     0.00     0.00     0.00     0.00     0.00    0.00   \n",
       "25%    1817.75     0.00     0.00     0.09     0.00     0.00     0.00    0.52   \n",
       "50%    1885.50     0.00     0.27     1.04     0.00     0.02     0.00    1.26   \n",
       "75%    1953.25     0.55     6.74     8.34     0.58     0.57     0.00    4.39   \n",
       "max    2021.00 37123.85 15051.51 12345.65  7921.83  1672.59   439.25  306.64   \n",
       "\n",
       "       Per Capita  \n",
       "count    18974.00  \n",
       "mean         4.41  \n",
       "std         17.43  \n",
       "min          0.00  \n",
       "25%          0.20  \n",
       "50%          1.30  \n",
       "75%          5.08  \n",
       "max        834.19  "
      ]
     },
     "execution_count": 13,
     "metadata": {},
     "output_type": "execute_result"
    }
   ],
   "source": [
    "df1.describe()"
   ]
  },
  {
   "cell_type": "markdown",
   "id": "9a269384",
   "metadata": {},
   "source": [
    "1. We see that we have data from year 1750 to 2021.\n",
    "2. Per capita means the individual contribution of emission."
   ]
  },
  {
   "cell_type": "markdown",
   "id": "1a624ce2",
   "metadata": {},
   "source": [
    "# Data Inspection"
   ]
  },
  {
   "cell_type": "code",
   "execution_count": 14,
   "id": "5803d3b8",
   "metadata": {},
   "outputs": [],
   "source": [
    "co2 = df1.copy()"
   ]
  },
  {
   "cell_type": "code",
   "execution_count": 15,
   "id": "3f58926a",
   "metadata": {},
   "outputs": [],
   "source": [
    "per_capita = df2.copy()"
   ]
  },
  {
   "cell_type": "code",
   "execution_count": 16,
   "id": "d03acc7c",
   "metadata": {},
   "outputs": [],
   "source": [
    "sources = df3.copy()"
   ]
  },
  {
   "cell_type": "code",
   "execution_count": 17,
   "id": "c9bdb2b4",
   "metadata": {},
   "outputs": [],
   "source": [
    "#checking the info of the dataset"
   ]
  },
  {
   "cell_type": "code",
   "execution_count": 18,
   "id": "61877433",
   "metadata": {},
   "outputs": [
    {
     "name": "stdout",
     "output_type": "stream",
     "text": [
      "<class 'pandas.core.frame.DataFrame'>\n",
      "RangeIndex: 63104 entries, 0 to 63103\n",
      "Data columns (total 11 columns):\n",
      " #   Column              Non-Null Count  Dtype  \n",
      "---  ------              --------------  -----  \n",
      " 0   Country             63104 non-null  object \n",
      " 1   ISO 3166-1 alpha-3  61472 non-null  object \n",
      " 2   Year                63104 non-null  int64  \n",
      " 3   Total               62904 non-null  float64\n",
      " 4   Coal                21744 non-null  float64\n",
      " 5   Oil                 21717 non-null  float64\n",
      " 6   Gas                 21618 non-null  float64\n",
      " 7   Cement              20814 non-null  float64\n",
      " 8   Flaring             21550 non-null  float64\n",
      " 9   Other               1620 non-null   float64\n",
      " 10  Per Capita          18974 non-null  float64\n",
      "dtypes: float64(8), int64(1), object(2)\n",
      "memory usage: 5.3+ MB\n"
     ]
    }
   ],
   "source": [
    "co2.info()"
   ]
  },
  {
   "cell_type": "code",
   "execution_count": 19,
   "id": "9bf1f0fb",
   "metadata": {},
   "outputs": [
    {
     "name": "stdout",
     "output_type": "stream",
     "text": [
      "<class 'pandas.core.frame.DataFrame'>\n",
      "RangeIndex: 63104 entries, 0 to 63103\n",
      "Data columns (total 10 columns):\n",
      " #   Column              Non-Null Count  Dtype  \n",
      "---  ------              --------------  -----  \n",
      " 0   Country             63104 non-null  object \n",
      " 1   ISO 3166-1 alpha-3  61472 non-null  object \n",
      " 2   Year                63104 non-null  int64  \n",
      " 3   Total               18972 non-null  float64\n",
      " 4   Coal                17138 non-null  float64\n",
      " 5   Oil                 17039 non-null  float64\n",
      " 6   Gas                 17012 non-null  float64\n",
      " 7   Cement              15448 non-null  float64\n",
      " 8   Flaring             16944 non-null  float64\n",
      " 9   Other               1620 non-null   float64\n",
      "dtypes: float64(7), int64(1), object(2)\n",
      "memory usage: 4.8+ MB\n"
     ]
    }
   ],
   "source": [
    "per_capita.info()"
   ]
  },
  {
   "cell_type": "code",
   "execution_count": 20,
   "id": "a91077ac",
   "metadata": {},
   "outputs": [
    {
     "name": "stdout",
     "output_type": "stream",
     "text": [
      "<class 'pandas.core.frame.DataFrame'>\n",
      "RangeIndex: 63104 entries, 0 to 63103\n",
      "Data columns (total 11 columns):\n",
      " #   Column              Non-Null Count  Dtype \n",
      "---  ------              --------------  ----- \n",
      " 0   Country             63104 non-null  object\n",
      " 1   ISO 3166-1 alpha-3  61472 non-null  object\n",
      " 2   Year                63104 non-null  int64 \n",
      " 3   Total               63104 non-null  object\n",
      " 4   Coal                63104 non-null  object\n",
      " 5   Oil                 63104 non-null  object\n",
      " 6   Gas                 63104 non-null  object\n",
      " 7   Cement              63104 non-null  object\n",
      " 8   Flaring             63104 non-null  object\n",
      " 9   Other               63104 non-null  object\n",
      " 10  Per Capita          63104 non-null  object\n",
      "dtypes: int64(1), object(10)\n",
      "memory usage: 5.3+ MB\n"
     ]
    }
   ],
   "source": [
    "sources.info()"
   ]
  },
  {
   "cell_type": "code",
   "execution_count": 21,
   "id": "509a363a",
   "metadata": {
    "scrolled": true
   },
   "outputs": [
    {
     "data": {
      "text/html": [
       "<div>\n",
       "<style scoped>\n",
       "    .dataframe tbody tr th:only-of-type {\n",
       "        vertical-align: middle;\n",
       "    }\n",
       "\n",
       "    .dataframe tbody tr th {\n",
       "        vertical-align: top;\n",
       "    }\n",
       "\n",
       "    .dataframe thead th {\n",
       "        text-align: right;\n",
       "    }\n",
       "</style>\n",
       "<table border=\"1\" class=\"dataframe\">\n",
       "  <thead>\n",
       "    <tr style=\"text-align: right;\">\n",
       "      <th></th>\n",
       "      <th>Country</th>\n",
       "      <th>ISO 3166-1 alpha-3</th>\n",
       "      <th>Year</th>\n",
       "      <th>Total</th>\n",
       "      <th>Coal</th>\n",
       "      <th>Oil</th>\n",
       "      <th>Gas</th>\n",
       "      <th>Cement</th>\n",
       "      <th>Flaring</th>\n",
       "      <th>Other</th>\n",
       "      <th>Per Capita</th>\n",
       "    </tr>\n",
       "  </thead>\n",
       "  <tbody>\n",
       "    <tr>\n",
       "      <th>0</th>\n",
       "      <td>Afghanistan</td>\n",
       "      <td>AFG</td>\n",
       "      <td>1750</td>\n",
       "      <td>0.00</td>\n",
       "      <td>0.00</td>\n",
       "      <td>0.00</td>\n",
       "      <td>0.00</td>\n",
       "      <td>0.00</td>\n",
       "      <td>0.00</td>\n",
       "      <td>0.00</td>\n",
       "      <td>0.00</td>\n",
       "    </tr>\n",
       "    <tr>\n",
       "      <th>1</th>\n",
       "      <td>Afghanistan</td>\n",
       "      <td>AFG</td>\n",
       "      <td>1751</td>\n",
       "      <td>0.00</td>\n",
       "      <td>0.00</td>\n",
       "      <td>0.00</td>\n",
       "      <td>0.00</td>\n",
       "      <td>0.00</td>\n",
       "      <td>0.00</td>\n",
       "      <td>0.00</td>\n",
       "      <td>0.00</td>\n",
       "    </tr>\n",
       "    <tr>\n",
       "      <th>2</th>\n",
       "      <td>Afghanistan</td>\n",
       "      <td>AFG</td>\n",
       "      <td>1752</td>\n",
       "      <td>0.00</td>\n",
       "      <td>0.00</td>\n",
       "      <td>0.00</td>\n",
       "      <td>0.00</td>\n",
       "      <td>0.00</td>\n",
       "      <td>0.00</td>\n",
       "      <td>0.00</td>\n",
       "      <td>0.00</td>\n",
       "    </tr>\n",
       "    <tr>\n",
       "      <th>3</th>\n",
       "      <td>Afghanistan</td>\n",
       "      <td>AFG</td>\n",
       "      <td>1753</td>\n",
       "      <td>0.00</td>\n",
       "      <td>0.00</td>\n",
       "      <td>0.00</td>\n",
       "      <td>0.00</td>\n",
       "      <td>0.00</td>\n",
       "      <td>0.00</td>\n",
       "      <td>0.00</td>\n",
       "      <td>0.00</td>\n",
       "    </tr>\n",
       "    <tr>\n",
       "      <th>4</th>\n",
       "      <td>Afghanistan</td>\n",
       "      <td>AFG</td>\n",
       "      <td>1754</td>\n",
       "      <td>0.00</td>\n",
       "      <td>0.00</td>\n",
       "      <td>0.00</td>\n",
       "      <td>0.00</td>\n",
       "      <td>0.00</td>\n",
       "      <td>0.00</td>\n",
       "      <td>0.00</td>\n",
       "      <td>0.00</td>\n",
       "    </tr>\n",
       "    <tr>\n",
       "      <th>...</th>\n",
       "      <td>...</td>\n",
       "      <td>...</td>\n",
       "      <td>...</td>\n",
       "      <td>...</td>\n",
       "      <td>...</td>\n",
       "      <td>...</td>\n",
       "      <td>...</td>\n",
       "      <td>...</td>\n",
       "      <td>...</td>\n",
       "      <td>...</td>\n",
       "      <td>...</td>\n",
       "    </tr>\n",
       "    <tr>\n",
       "      <th>63099</th>\n",
       "      <td>Global</td>\n",
       "      <td>WLD</td>\n",
       "      <td>2017</td>\n",
       "      <td>36096.74</td>\n",
       "      <td>14506.97</td>\n",
       "      <td>12242.63</td>\n",
       "      <td>7144.93</td>\n",
       "      <td>1507.92</td>\n",
       "      <td>391.99</td>\n",
       "      <td>302.29</td>\n",
       "      <td>4.75</td>\n",
       "    </tr>\n",
       "    <tr>\n",
       "      <th>63100</th>\n",
       "      <td>Global</td>\n",
       "      <td>WLD</td>\n",
       "      <td>2018</td>\n",
       "      <td>36826.51</td>\n",
       "      <td>14746.83</td>\n",
       "      <td>12266.02</td>\n",
       "      <td>7529.85</td>\n",
       "      <td>1569.22</td>\n",
       "      <td>412.12</td>\n",
       "      <td>302.48</td>\n",
       "      <td>4.79</td>\n",
       "    </tr>\n",
       "    <tr>\n",
       "      <th>63101</th>\n",
       "      <td>Global</td>\n",
       "      <td>WLD</td>\n",
       "      <td>2019</td>\n",
       "      <td>37082.56</td>\n",
       "      <td>14725.98</td>\n",
       "      <td>12345.65</td>\n",
       "      <td>7647.53</td>\n",
       "      <td>1617.51</td>\n",
       "      <td>439.25</td>\n",
       "      <td>306.64</td>\n",
       "      <td>4.78</td>\n",
       "    </tr>\n",
       "    <tr>\n",
       "      <th>63102</th>\n",
       "      <td>Global</td>\n",
       "      <td>WLD</td>\n",
       "      <td>2020</td>\n",
       "      <td>35264.09</td>\n",
       "      <td>14174.56</td>\n",
       "      <td>11191.81</td>\n",
       "      <td>7556.29</td>\n",
       "      <td>1637.54</td>\n",
       "      <td>407.58</td>\n",
       "      <td>296.30</td>\n",
       "      <td>4.50</td>\n",
       "    </tr>\n",
       "    <tr>\n",
       "      <th>63103</th>\n",
       "      <td>Global</td>\n",
       "      <td>WLD</td>\n",
       "      <td>2021</td>\n",
       "      <td>37123.85</td>\n",
       "      <td>14979.60</td>\n",
       "      <td>11837.16</td>\n",
       "      <td>7921.83</td>\n",
       "      <td>1672.59</td>\n",
       "      <td>416.53</td>\n",
       "      <td>296.15</td>\n",
       "      <td>4.69</td>\n",
       "    </tr>\n",
       "  </tbody>\n",
       "</table>\n",
       "<p>63104 rows × 11 columns</p>\n",
       "</div>"
      ],
      "text/plain": [
       "           Country ISO 3166-1 alpha-3  Year    Total     Coal      Oil  \\\n",
       "0      Afghanistan                AFG  1750     0.00     0.00     0.00   \n",
       "1      Afghanistan                AFG  1751     0.00     0.00     0.00   \n",
       "2      Afghanistan                AFG  1752     0.00     0.00     0.00   \n",
       "3      Afghanistan                AFG  1753     0.00     0.00     0.00   \n",
       "4      Afghanistan                AFG  1754     0.00     0.00     0.00   \n",
       "...            ...                ...   ...      ...      ...      ...   \n",
       "63099       Global                WLD  2017 36096.74 14506.97 12242.63   \n",
       "63100       Global                WLD  2018 36826.51 14746.83 12266.02   \n",
       "63101       Global                WLD  2019 37082.56 14725.98 12345.65   \n",
       "63102       Global                WLD  2020 35264.09 14174.56 11191.81   \n",
       "63103       Global                WLD  2021 37123.85 14979.60 11837.16   \n",
       "\n",
       "          Gas  Cement  Flaring  Other  Per Capita  \n",
       "0        0.00    0.00     0.00   0.00        0.00  \n",
       "1        0.00    0.00     0.00   0.00        0.00  \n",
       "2        0.00    0.00     0.00   0.00        0.00  \n",
       "3        0.00    0.00     0.00   0.00        0.00  \n",
       "4        0.00    0.00     0.00   0.00        0.00  \n",
       "...       ...     ...      ...    ...         ...  \n",
       "63099 7144.93 1507.92   391.99 302.29        4.75  \n",
       "63100 7529.85 1569.22   412.12 302.48        4.79  \n",
       "63101 7647.53 1617.51   439.25 306.64        4.78  \n",
       "63102 7556.29 1637.54   407.58 296.30        4.50  \n",
       "63103 7921.83 1672.59   416.53 296.15        4.69  \n",
       "\n",
       "[63104 rows x 11 columns]"
      ]
     },
     "execution_count": 21,
     "metadata": {},
     "output_type": "execute_result"
    }
   ],
   "source": [
    "#filling all nan values with 0\n",
    "co2 = df1.fillna(0)\n",
    "co2"
   ]
  },
  {
   "cell_type": "markdown",
   "id": "760f74ca",
   "metadata": {},
   "source": [
    "Here, we used 0 to fill the nan values.\n",
    " "
   ]
  },
  {
   "cell_type": "code",
   "execution_count": 22,
   "id": "343be3e0",
   "metadata": {},
   "outputs": [
    {
     "data": {
      "text/html": [
       "<div>\n",
       "<style scoped>\n",
       "    .dataframe tbody tr th:only-of-type {\n",
       "        vertical-align: middle;\n",
       "    }\n",
       "\n",
       "    .dataframe tbody tr th {\n",
       "        vertical-align: top;\n",
       "    }\n",
       "\n",
       "    .dataframe thead th {\n",
       "        text-align: right;\n",
       "    }\n",
       "</style>\n",
       "<table border=\"1\" class=\"dataframe\">\n",
       "  <thead>\n",
       "    <tr style=\"text-align: right;\">\n",
       "      <th></th>\n",
       "      <th>Country</th>\n",
       "      <th>ISO 3166-1 alpha-3</th>\n",
       "      <th>Year</th>\n",
       "      <th>Total</th>\n",
       "      <th>Coal</th>\n",
       "      <th>Oil</th>\n",
       "      <th>Gas</th>\n",
       "      <th>Cement</th>\n",
       "      <th>Flaring</th>\n",
       "      <th>Other</th>\n",
       "      <th>Per Capita</th>\n",
       "    </tr>\n",
       "  </thead>\n",
       "  <tbody>\n",
       "    <tr>\n",
       "      <th>0</th>\n",
       "      <td>Afghanistan</td>\n",
       "      <td>AFG</td>\n",
       "      <td>1750</td>\n",
       "      <td>0.00</td>\n",
       "      <td>0.00</td>\n",
       "      <td>0.00</td>\n",
       "      <td>0.00</td>\n",
       "      <td>0.00</td>\n",
       "      <td>0.00</td>\n",
       "      <td>0.00</td>\n",
       "      <td>0.00</td>\n",
       "    </tr>\n",
       "    <tr>\n",
       "      <th>1</th>\n",
       "      <td>Afghanistan</td>\n",
       "      <td>AFG</td>\n",
       "      <td>1751</td>\n",
       "      <td>0.00</td>\n",
       "      <td>0.00</td>\n",
       "      <td>0.00</td>\n",
       "      <td>0.00</td>\n",
       "      <td>0.00</td>\n",
       "      <td>0.00</td>\n",
       "      <td>0.00</td>\n",
       "      <td>0.00</td>\n",
       "    </tr>\n",
       "    <tr>\n",
       "      <th>2</th>\n",
       "      <td>Afghanistan</td>\n",
       "      <td>AFG</td>\n",
       "      <td>1752</td>\n",
       "      <td>0.00</td>\n",
       "      <td>0.00</td>\n",
       "      <td>0.00</td>\n",
       "      <td>0.00</td>\n",
       "      <td>0.00</td>\n",
       "      <td>0.00</td>\n",
       "      <td>0.00</td>\n",
       "      <td>0.00</td>\n",
       "    </tr>\n",
       "    <tr>\n",
       "      <th>3</th>\n",
       "      <td>Afghanistan</td>\n",
       "      <td>AFG</td>\n",
       "      <td>1753</td>\n",
       "      <td>0.00</td>\n",
       "      <td>0.00</td>\n",
       "      <td>0.00</td>\n",
       "      <td>0.00</td>\n",
       "      <td>0.00</td>\n",
       "      <td>0.00</td>\n",
       "      <td>0.00</td>\n",
       "      <td>0.00</td>\n",
       "    </tr>\n",
       "    <tr>\n",
       "      <th>4</th>\n",
       "      <td>Afghanistan</td>\n",
       "      <td>AFG</td>\n",
       "      <td>1754</td>\n",
       "      <td>0.00</td>\n",
       "      <td>0.00</td>\n",
       "      <td>0.00</td>\n",
       "      <td>0.00</td>\n",
       "      <td>0.00</td>\n",
       "      <td>0.00</td>\n",
       "      <td>0.00</td>\n",
       "      <td>0.00</td>\n",
       "    </tr>\n",
       "    <tr>\n",
       "      <th>5</th>\n",
       "      <td>Afghanistan</td>\n",
       "      <td>AFG</td>\n",
       "      <td>1755</td>\n",
       "      <td>0.00</td>\n",
       "      <td>0.00</td>\n",
       "      <td>0.00</td>\n",
       "      <td>0.00</td>\n",
       "      <td>0.00</td>\n",
       "      <td>0.00</td>\n",
       "      <td>0.00</td>\n",
       "      <td>0.00</td>\n",
       "    </tr>\n",
       "    <tr>\n",
       "      <th>6</th>\n",
       "      <td>Afghanistan</td>\n",
       "      <td>AFG</td>\n",
       "      <td>1756</td>\n",
       "      <td>0.00</td>\n",
       "      <td>0.00</td>\n",
       "      <td>0.00</td>\n",
       "      <td>0.00</td>\n",
       "      <td>0.00</td>\n",
       "      <td>0.00</td>\n",
       "      <td>0.00</td>\n",
       "      <td>0.00</td>\n",
       "    </tr>\n",
       "    <tr>\n",
       "      <th>7</th>\n",
       "      <td>Afghanistan</td>\n",
       "      <td>AFG</td>\n",
       "      <td>1757</td>\n",
       "      <td>0.00</td>\n",
       "      <td>0.00</td>\n",
       "      <td>0.00</td>\n",
       "      <td>0.00</td>\n",
       "      <td>0.00</td>\n",
       "      <td>0.00</td>\n",
       "      <td>0.00</td>\n",
       "      <td>0.00</td>\n",
       "    </tr>\n",
       "    <tr>\n",
       "      <th>8</th>\n",
       "      <td>Afghanistan</td>\n",
       "      <td>AFG</td>\n",
       "      <td>1758</td>\n",
       "      <td>0.00</td>\n",
       "      <td>0.00</td>\n",
       "      <td>0.00</td>\n",
       "      <td>0.00</td>\n",
       "      <td>0.00</td>\n",
       "      <td>0.00</td>\n",
       "      <td>0.00</td>\n",
       "      <td>0.00</td>\n",
       "    </tr>\n",
       "    <tr>\n",
       "      <th>9</th>\n",
       "      <td>Afghanistan</td>\n",
       "      <td>AFG</td>\n",
       "      <td>1759</td>\n",
       "      <td>0.00</td>\n",
       "      <td>0.00</td>\n",
       "      <td>0.00</td>\n",
       "      <td>0.00</td>\n",
       "      <td>0.00</td>\n",
       "      <td>0.00</td>\n",
       "      <td>0.00</td>\n",
       "      <td>0.00</td>\n",
       "    </tr>\n",
       "    <tr>\n",
       "      <th>10</th>\n",
       "      <td>Afghanistan</td>\n",
       "      <td>AFG</td>\n",
       "      <td>1760</td>\n",
       "      <td>0.00</td>\n",
       "      <td>0.00</td>\n",
       "      <td>0.00</td>\n",
       "      <td>0.00</td>\n",
       "      <td>0.00</td>\n",
       "      <td>0.00</td>\n",
       "      <td>0.00</td>\n",
       "      <td>0.00</td>\n",
       "    </tr>\n",
       "    <tr>\n",
       "      <th>11</th>\n",
       "      <td>Afghanistan</td>\n",
       "      <td>AFG</td>\n",
       "      <td>1761</td>\n",
       "      <td>0.00</td>\n",
       "      <td>0.00</td>\n",
       "      <td>0.00</td>\n",
       "      <td>0.00</td>\n",
       "      <td>0.00</td>\n",
       "      <td>0.00</td>\n",
       "      <td>0.00</td>\n",
       "      <td>0.00</td>\n",
       "    </tr>\n",
       "    <tr>\n",
       "      <th>12</th>\n",
       "      <td>Afghanistan</td>\n",
       "      <td>AFG</td>\n",
       "      <td>1762</td>\n",
       "      <td>0.00</td>\n",
       "      <td>0.00</td>\n",
       "      <td>0.00</td>\n",
       "      <td>0.00</td>\n",
       "      <td>0.00</td>\n",
       "      <td>0.00</td>\n",
       "      <td>0.00</td>\n",
       "      <td>0.00</td>\n",
       "    </tr>\n",
       "    <tr>\n",
       "      <th>13</th>\n",
       "      <td>Afghanistan</td>\n",
       "      <td>AFG</td>\n",
       "      <td>1763</td>\n",
       "      <td>0.00</td>\n",
       "      <td>0.00</td>\n",
       "      <td>0.00</td>\n",
       "      <td>0.00</td>\n",
       "      <td>0.00</td>\n",
       "      <td>0.00</td>\n",
       "      <td>0.00</td>\n",
       "      <td>0.00</td>\n",
       "    </tr>\n",
       "    <tr>\n",
       "      <th>14</th>\n",
       "      <td>Afghanistan</td>\n",
       "      <td>AFG</td>\n",
       "      <td>1764</td>\n",
       "      <td>0.00</td>\n",
       "      <td>0.00</td>\n",
       "      <td>0.00</td>\n",
       "      <td>0.00</td>\n",
       "      <td>0.00</td>\n",
       "      <td>0.00</td>\n",
       "      <td>0.00</td>\n",
       "      <td>0.00</td>\n",
       "    </tr>\n",
       "  </tbody>\n",
       "</table>\n",
       "</div>"
      ],
      "text/plain": [
       "        Country ISO 3166-1 alpha-3  Year  Total  Coal  Oil  Gas  Cement  \\\n",
       "0   Afghanistan                AFG  1750   0.00  0.00 0.00 0.00    0.00   \n",
       "1   Afghanistan                AFG  1751   0.00  0.00 0.00 0.00    0.00   \n",
       "2   Afghanistan                AFG  1752   0.00  0.00 0.00 0.00    0.00   \n",
       "3   Afghanistan                AFG  1753   0.00  0.00 0.00 0.00    0.00   \n",
       "4   Afghanistan                AFG  1754   0.00  0.00 0.00 0.00    0.00   \n",
       "5   Afghanistan                AFG  1755   0.00  0.00 0.00 0.00    0.00   \n",
       "6   Afghanistan                AFG  1756   0.00  0.00 0.00 0.00    0.00   \n",
       "7   Afghanistan                AFG  1757   0.00  0.00 0.00 0.00    0.00   \n",
       "8   Afghanistan                AFG  1758   0.00  0.00 0.00 0.00    0.00   \n",
       "9   Afghanistan                AFG  1759   0.00  0.00 0.00 0.00    0.00   \n",
       "10  Afghanistan                AFG  1760   0.00  0.00 0.00 0.00    0.00   \n",
       "11  Afghanistan                AFG  1761   0.00  0.00 0.00 0.00    0.00   \n",
       "12  Afghanistan                AFG  1762   0.00  0.00 0.00 0.00    0.00   \n",
       "13  Afghanistan                AFG  1763   0.00  0.00 0.00 0.00    0.00   \n",
       "14  Afghanistan                AFG  1764   0.00  0.00 0.00 0.00    0.00   \n",
       "\n",
       "    Flaring  Other  Per Capita  \n",
       "0      0.00   0.00        0.00  \n",
       "1      0.00   0.00        0.00  \n",
       "2      0.00   0.00        0.00  \n",
       "3      0.00   0.00        0.00  \n",
       "4      0.00   0.00        0.00  \n",
       "5      0.00   0.00        0.00  \n",
       "6      0.00   0.00        0.00  \n",
       "7      0.00   0.00        0.00  \n",
       "8      0.00   0.00        0.00  \n",
       "9      0.00   0.00        0.00  \n",
       "10     0.00   0.00        0.00  \n",
       "11     0.00   0.00        0.00  \n",
       "12     0.00   0.00        0.00  \n",
       "13     0.00   0.00        0.00  \n",
       "14     0.00   0.00        0.00  "
      ]
     },
     "execution_count": 22,
     "metadata": {},
     "output_type": "execute_result"
    }
   ],
   "source": [
    "co2.head(15)"
   ]
  },
  {
   "cell_type": "markdown",
   "id": "160e494d",
   "metadata": {},
   "source": [
    "Now. we want to check actually how many countries are there. ie we go and check unique values for variable countries"
   ]
  },
  {
   "cell_type": "code",
   "execution_count": 23,
   "id": "c1d32307",
   "metadata": {},
   "outputs": [
    {
     "data": {
      "text/plain": [
       "Afghanistan    272\n",
       "Peru           272\n",
       "Niger          272\n",
       "Nigeria        272\n",
       "Niue           272\n",
       "              ... \n",
       "Greenland      272\n",
       "Grenada        272\n",
       "Guadeloupe     272\n",
       "Guatemala      272\n",
       "Global         272\n",
       "Name: Country, Length: 232, dtype: int64"
      ]
     },
     "execution_count": 23,
     "metadata": {},
     "output_type": "execute_result"
    }
   ],
   "source": [
    "co2.Country.value_counts()"
   ]
  },
  {
   "cell_type": "markdown",
   "id": "f73ec930",
   "metadata": {},
   "source": [
    "We see that there are 232 countries which have 272 rows each. We also observe that the total count is 232 x 272 = 63104."
   ]
  },
  {
   "cell_type": "code",
   "execution_count": 25,
   "id": "7b32d5b4",
   "metadata": {},
   "outputs": [
    {
     "data": {
      "text/plain": [
       "63104"
      ]
     },
     "execution_count": 25,
     "metadata": {},
     "output_type": "execute_result"
    }
   ],
   "source": [
    "232*272"
   ]
  },
  {
   "cell_type": "code",
   "execution_count": 27,
   "id": "874d25c8",
   "metadata": {},
   "outputs": [
    {
     "data": {
      "text/plain": [
       "(63104, 11)"
      ]
     },
     "execution_count": 27,
     "metadata": {},
     "output_type": "execute_result"
    }
   ],
   "source": [
    "co2.shape"
   ]
  },
  {
   "cell_type": "code",
   "execution_count": 28,
   "id": "9e979e58",
   "metadata": {},
   "outputs": [
    {
     "data": {
      "text/plain": [
       "Index(['Country', 'ISO 3166-1 alpha-3', 'Year', 'Total', 'Coal', 'Oil', 'Gas',\n",
       "       'Cement', 'Flaring', 'Other', 'Per Capita'],\n",
       "      dtype='object')"
      ]
     },
     "execution_count": 28,
     "metadata": {},
     "output_type": "execute_result"
    }
   ],
   "source": [
    "co2.columns"
   ]
  },
  {
   "cell_type": "markdown",
   "id": "e500d0c6",
   "metadata": {},
   "source": [
    "We will now see how many unique countries are present."
   ]
  },
  {
   "cell_type": "code",
   "execution_count": 31,
   "id": "d4856bda",
   "metadata": {},
   "outputs": [
    {
     "data": {
      "text/plain": [
       "array(['Afghanistan', 'Albania', 'Algeria', 'Andorra', 'Angola',\n",
       "       'Anguilla', 'Antarctica', 'Antigua and Barbuda', 'Argentina',\n",
       "       'Armenia', 'Aruba', 'Australia', 'Austria', 'Azerbaijan',\n",
       "       'Bahamas', 'Bahrain', 'Bangladesh', 'Barbados', 'Belarus',\n",
       "       'Belgium', 'Belize', 'Benin', 'Bermuda', 'Bhutan',\n",
       "       'Bonaire, Saint Eustatius and Saba', 'Bosnia and Herzegovina',\n",
       "       'Botswana', 'Brazil', 'British Virgin Islands',\n",
       "       'Brunei Darussalam', 'Bulgaria', 'Burkina Faso', 'Burundi',\n",
       "       'Cambodia', 'Canada', 'Cape Verde', 'Central African Republic',\n",
       "       'Chad', 'Chile', 'China', 'Christmas Island', 'Colombia',\n",
       "       'Comoros', 'Congo', 'Cook Islands', 'Costa Rica', \"Côte d'Ivoire\",\n",
       "       'Croatia', 'Cuba', 'Curaçao', 'Cyprus', 'Czech Republic',\n",
       "       'North Korea', 'Democratic Republic of the Congo', 'Denmark',\n",
       "       'Djibouti', 'Dominica', 'Dominican Republic', 'Ecuador', 'Egypt',\n",
       "       'El Salvador', 'Equatorial Guinea', 'Eritrea', 'Estonia',\n",
       "       'Ethiopia', 'Faeroe Islands', 'Micronesia (Federated States of)',\n",
       "       'Fiji', 'Finland', 'Panama Canal Zone', 'France',\n",
       "       'French Equatorial Africa', 'French Guiana', 'French Polynesia',\n",
       "       'French West Africa', 'Gabon', 'Gambia', 'Georgia', 'Germany',\n",
       "       'Ghana', 'Greece', 'Greenland', 'Grenada', 'Guadeloupe',\n",
       "       'Guatemala', 'Guinea', 'Guinea-Bissau', 'Guyana', 'Haiti',\n",
       "       'Honduras', 'Hong Kong', 'Hungary', 'Iceland', 'India',\n",
       "       'Indonesia', 'Iraq', 'Ireland', 'Iran', 'Israel', 'Italy',\n",
       "       'Jamaica', 'Japan', 'Jordan', 'Kazakhstan', 'Kenya', 'Kiribati',\n",
       "       'Kosovo', 'Kuwait', 'Kuwaiti Oil Fires', 'Kyrgyzstan', 'Laos',\n",
       "       'Latvia', 'Lebanon', 'Leeward Islands', 'Lesotho', 'Liberia',\n",
       "       'Libya', 'Liechtenstein', 'Lithuania', 'Luxembourg', 'Macao',\n",
       "       'North Macedonia', 'Madagascar', 'Malawi', 'Malaysia', 'Maldives',\n",
       "       'Mali', 'Malta', 'Marshall Islands', 'Martinique', 'Mauritania',\n",
       "       'Mauritius', 'Mayotte', 'Mexico', 'Mongolia', 'Montenegro',\n",
       "       'Montserrat', 'Morocco', 'Mozambique', 'Myanmar', 'Namibia',\n",
       "       'Nauru', 'Nepal', 'Netherlands', 'New Caledonia', 'New Zealand',\n",
       "       'Nicaragua', 'Niger', 'Nigeria', 'Niue', 'Norway',\n",
       "       'Occupied Palestinian Territory', 'Oman',\n",
       "       'Pacific Islands (Palau)', 'Pakistan', 'Palau', 'Panama',\n",
       "       'Papua New Guinea', 'Paraguay', 'Peru', 'Philippines', 'Bolivia',\n",
       "       'Poland', 'Portugal', 'Puerto Rico', 'Qatar', 'Cameroon',\n",
       "       'South Korea', 'Moldova', 'South Sudan', 'Sudan', 'Réunion',\n",
       "       'Romania', 'Russia', 'Rwanda', 'Ryukyu Islands', 'Saint Helena',\n",
       "       'Saint Lucia', 'Sint Maarten (Dutch part)', 'Samoa',\n",
       "       'Sao Tome and Principe', 'Saudi Arabia', 'Senegal', 'Serbia',\n",
       "       'Seychelles', 'Sierra Leone', 'Singapore', 'Slovakia', 'Slovenia',\n",
       "       'Solomon Islands', 'Somalia', 'South Africa', 'Spain', 'Sri Lanka',\n",
       "       'Saint Kitts and Nevis', 'St. Kitts-Nevis-Anguilla',\n",
       "       'Saint Pierre and Miquelon', 'Saint Vincent and the Grenadines',\n",
       "       'Suriname', 'Swaziland', 'Sweden', 'Switzerland', 'Syria',\n",
       "       'Taiwan', 'Tajikistan', 'Thailand', 'Timor-Leste', 'Togo', 'Tonga',\n",
       "       'Trinidad and Tobago', 'Tunisia', 'Turkey', 'Turkmenistan',\n",
       "       'Turks and Caicos Islands', 'Tuvalu', 'Uganda', 'Ukraine',\n",
       "       'United Arab Emirates', 'United Kingdom', 'Tanzania', 'USA',\n",
       "       'Uruguay', 'Uzbekistan', 'Vanuatu', 'Venezuela', 'Viet Nam',\n",
       "       'Wallis and Futuna Islands', 'Yemen', 'Zambia', 'Zimbabwe',\n",
       "       'International Transport', 'Global'], dtype=object)"
      ]
     },
     "execution_count": 31,
     "metadata": {},
     "output_type": "execute_result"
    }
   ],
   "source": [
    "co2.Country.unique()"
   ]
  },
  {
   "cell_type": "code",
   "execution_count": 32,
   "id": "8eda2f51",
   "metadata": {},
   "outputs": [
    {
     "data": {
      "text/plain": [
       "232"
      ]
     },
     "execution_count": 32,
     "metadata": {},
     "output_type": "execute_result"
    }
   ],
   "source": [
    "co2.Country.nunique()"
   ]
  },
  {
   "cell_type": "code",
   "execution_count": 33,
   "id": "166f6efa",
   "metadata": {},
   "outputs": [],
   "source": [
    "#filtering the row elements in the country column"
   ]
  },
  {
   "cell_type": "code",
   "execution_count": 34,
   "id": "c6826cc3",
   "metadata": {},
   "outputs": [],
   "source": [
    "co2=co2[co2['Country']!='Global']"
   ]
  },
  {
   "cell_type": "code",
   "execution_count": 35,
   "id": "363aaf7d",
   "metadata": {},
   "outputs": [
    {
     "data": {
      "text/plain": [
       "231"
      ]
     },
     "execution_count": 35,
     "metadata": {},
     "output_type": "execute_result"
    }
   ],
   "source": [
    "co2.Country.nunique()"
   ]
  },
  {
   "cell_type": "code",
   "execution_count": 36,
   "id": "37455982",
   "metadata": {},
   "outputs": [],
   "source": [
    "#hence, we have removed the element Global from Country list."
   ]
  },
  {
   "cell_type": "code",
   "execution_count": 37,
   "id": "8a029f8f",
   "metadata": {},
   "outputs": [],
   "source": [
    "dfx = co2[['Country','Year','Total']]"
   ]
  },
  {
   "cell_type": "code",
   "execution_count": 38,
   "id": "e9ecfcc3",
   "metadata": {},
   "outputs": [
    {
     "data": {
      "text/html": [
       "<div>\n",
       "<style scoped>\n",
       "    .dataframe tbody tr th:only-of-type {\n",
       "        vertical-align: middle;\n",
       "    }\n",
       "\n",
       "    .dataframe tbody tr th {\n",
       "        vertical-align: top;\n",
       "    }\n",
       "\n",
       "    .dataframe thead th {\n",
       "        text-align: right;\n",
       "    }\n",
       "</style>\n",
       "<table border=\"1\" class=\"dataframe\">\n",
       "  <thead>\n",
       "    <tr style=\"text-align: right;\">\n",
       "      <th></th>\n",
       "      <th>Country</th>\n",
       "      <th>Year</th>\n",
       "      <th>Total</th>\n",
       "    </tr>\n",
       "  </thead>\n",
       "  <tbody>\n",
       "    <tr>\n",
       "      <th>0</th>\n",
       "      <td>Afghanistan</td>\n",
       "      <td>1750</td>\n",
       "      <td>0.00</td>\n",
       "    </tr>\n",
       "    <tr>\n",
       "      <th>1</th>\n",
       "      <td>Afghanistan</td>\n",
       "      <td>1751</td>\n",
       "      <td>0.00</td>\n",
       "    </tr>\n",
       "    <tr>\n",
       "      <th>2</th>\n",
       "      <td>Afghanistan</td>\n",
       "      <td>1752</td>\n",
       "      <td>0.00</td>\n",
       "    </tr>\n",
       "    <tr>\n",
       "      <th>3</th>\n",
       "      <td>Afghanistan</td>\n",
       "      <td>1753</td>\n",
       "      <td>0.00</td>\n",
       "    </tr>\n",
       "    <tr>\n",
       "      <th>4</th>\n",
       "      <td>Afghanistan</td>\n",
       "      <td>1754</td>\n",
       "      <td>0.00</td>\n",
       "    </tr>\n",
       "  </tbody>\n",
       "</table>\n",
       "</div>"
      ],
      "text/plain": [
       "       Country  Year  Total\n",
       "0  Afghanistan  1750   0.00\n",
       "1  Afghanistan  1751   0.00\n",
       "2  Afghanistan  1752   0.00\n",
       "3  Afghanistan  1753   0.00\n",
       "4  Afghanistan  1754   0.00"
      ]
     },
     "execution_count": 38,
     "metadata": {},
     "output_type": "execute_result"
    }
   ],
   "source": [
    "dfx.head()"
   ]
  },
  {
   "cell_type": "code",
   "execution_count": 39,
   "id": "4a73ffa3",
   "metadata": {},
   "outputs": [
    {
     "data": {
      "text/html": [
       "<div>\n",
       "<style scoped>\n",
       "    .dataframe tbody tr th:only-of-type {\n",
       "        vertical-align: middle;\n",
       "    }\n",
       "\n",
       "    .dataframe tbody tr th {\n",
       "        vertical-align: top;\n",
       "    }\n",
       "\n",
       "    .dataframe thead th {\n",
       "        text-align: right;\n",
       "    }\n",
       "</style>\n",
       "<table border=\"1\" class=\"dataframe\">\n",
       "  <thead>\n",
       "    <tr style=\"text-align: right;\">\n",
       "      <th></th>\n",
       "      <th>Country</th>\n",
       "      <th>Year</th>\n",
       "      <th>Total</th>\n",
       "    </tr>\n",
       "  </thead>\n",
       "  <tbody>\n",
       "    <tr>\n",
       "      <th>62827</th>\n",
       "      <td>International Transport</td>\n",
       "      <td>2017</td>\n",
       "      <td>1230.51</td>\n",
       "    </tr>\n",
       "    <tr>\n",
       "      <th>62828</th>\n",
       "      <td>International Transport</td>\n",
       "      <td>2018</td>\n",
       "      <td>1270.69</td>\n",
       "    </tr>\n",
       "    <tr>\n",
       "      <th>62829</th>\n",
       "      <td>International Transport</td>\n",
       "      <td>2019</td>\n",
       "      <td>1249.56</td>\n",
       "    </tr>\n",
       "    <tr>\n",
       "      <th>62830</th>\n",
       "      <td>International Transport</td>\n",
       "      <td>2020</td>\n",
       "      <td>938.51</td>\n",
       "    </tr>\n",
       "    <tr>\n",
       "      <th>62831</th>\n",
       "      <td>International Transport</td>\n",
       "      <td>2021</td>\n",
       "      <td>1021.75</td>\n",
       "    </tr>\n",
       "  </tbody>\n",
       "</table>\n",
       "</div>"
      ],
      "text/plain": [
       "                       Country  Year   Total\n",
       "62827  International Transport  2017 1230.51\n",
       "62828  International Transport  2018 1270.69\n",
       "62829  International Transport  2019 1249.56\n",
       "62830  International Transport  2020  938.51\n",
       "62831  International Transport  2021 1021.75"
      ]
     },
     "execution_count": 39,
     "metadata": {},
     "output_type": "execute_result"
    }
   ],
   "source": [
    "dfx.tail()"
   ]
  },
  {
   "cell_type": "markdown",
   "id": "42c11d29",
   "metadata": {},
   "source": [
    "Using a group by function to group the total number of emissions from 1750 to 2021 group according to the cities."
   ]
  },
  {
   "cell_type": "code",
   "execution_count": 40,
   "id": "90edd8e9",
   "metadata": {},
   "outputs": [
    {
     "data": {
      "text/plain": [
       "Country\n",
       "USA                       421906.86\n",
       "China                     249352.82\n",
       "Russia                    117547.63\n",
       "Germany                    93290.50\n",
       "United Kingdom             78508.72\n",
       "Japan                      66711.08\n",
       "India                      57105.39\n",
       "International Transport    43062.67\n",
       "France                     39105.76\n",
       "Canada                     34115.40\n",
       "Name: Total, dtype: float64"
      ]
     },
     "execution_count": 40,
     "metadata": {},
     "output_type": "execute_result"
    }
   ],
   "source": [
    "dfx.groupby(['Country']).Total.sum().sort_values(ascending=False)[:10]"
   ]
  },
  {
   "cell_type": "markdown",
   "id": "d58c039e",
   "metadata": {},
   "source": [
    "We observe the following:"
   ]
  },
  {
   "cell_type": "markdown",
   "id": "8b26a10f",
   "metadata": {},
   "source": [
    "1. People in USA has the highest emissions.\n",
    "2. Only country and year columns have null values.\n",
    "3. We observe that there are 232 countries having 272 rows for them.\n",
    "4. The top 10 countries contributing to the emissions are USA, China, Russia, Germany, United Kingdom, Japan, India, International Transport, France, Canada. {listed in the descending order.}"
   ]
  },
  {
   "cell_type": "markdown",
   "id": "5e103a5c",
   "metadata": {},
   "source": [
    "## Exploratory Data Analysis"
   ]
  },
  {
   "cell_type": "markdown",
   "id": "afeecfe2",
   "metadata": {},
   "source": [
    "We will now create a plot to describe the countries with most emissions through a plot."
   ]
  },
  {
   "cell_type": "code",
   "execution_count": 54,
   "id": "81b2d706",
   "metadata": {},
   "outputs": [],
   "source": [
    "country_total = dfx.groupby(['Country']).Total.sum().sort_values(ascending=False)[:10]"
   ]
  },
  {
   "cell_type": "code",
   "execution_count": 55,
   "id": "2e210f19",
   "metadata": {},
   "outputs": [
    {
     "data": {
      "image/png": "[encoded data removed]",
      "text/plain": [
       "<Figure size 1000x500 with 1 Axes>"
      ]
     },
     "metadata": {},
     "output_type": "display_data"
    }
   ],
   "source": [
    "plt.figure(figsize=(10,5))\n",
    "colors=['red','orange','yellow','pink','green','blue','purple','cyan','black','grey']\n",
    "plot_1 = country_total.plot.barh(color=colors)\n"
   ]
  },
  {
   "cell_type": "code",
   "execution_count": 57,
   "id": "65919b12",
   "metadata": {},
   "outputs": [
    {
     "data": {
      "text/html": [
       "<div>\n",
       "<style scoped>\n",
       "    .dataframe tbody tr th:only-of-type {\n",
       "        vertical-align: middle;\n",
       "    }\n",
       "\n",
       "    .dataframe tbody tr th {\n",
       "        vertical-align: top;\n",
       "    }\n",
       "\n",
       "    .dataframe thead th {\n",
       "        text-align: right;\n",
       "    }\n",
       "</style>\n",
       "<table border=\"1\" class=\"dataframe\">\n",
       "  <thead>\n",
       "    <tr style=\"text-align: right;\">\n",
       "      <th></th>\n",
       "      <th>Country</th>\n",
       "      <th>Year</th>\n",
       "      <th>Total</th>\n",
       "    </tr>\n",
       "  </thead>\n",
       "  <tbody>\n",
       "    <tr>\n",
       "      <th>25296</th>\n",
       "      <td>India</td>\n",
       "      <td>1750</td>\n",
       "      <td>0.00</td>\n",
       "    </tr>\n",
       "    <tr>\n",
       "      <th>25297</th>\n",
       "      <td>India</td>\n",
       "      <td>1751</td>\n",
       "      <td>0.00</td>\n",
       "    </tr>\n",
       "    <tr>\n",
       "      <th>25298</th>\n",
       "      <td>India</td>\n",
       "      <td>1752</td>\n",
       "      <td>0.00</td>\n",
       "    </tr>\n",
       "    <tr>\n",
       "      <th>25299</th>\n",
       "      <td>India</td>\n",
       "      <td>1753</td>\n",
       "      <td>0.00</td>\n",
       "    </tr>\n",
       "    <tr>\n",
       "      <th>25300</th>\n",
       "      <td>India</td>\n",
       "      <td>1754</td>\n",
       "      <td>0.00</td>\n",
       "    </tr>\n",
       "    <tr>\n",
       "      <th>...</th>\n",
       "      <td>...</td>\n",
       "      <td>...</td>\n",
       "      <td>...</td>\n",
       "    </tr>\n",
       "    <tr>\n",
       "      <th>25563</th>\n",
       "      <td>India</td>\n",
       "      <td>2017</td>\n",
       "      <td>2434.87</td>\n",
       "    </tr>\n",
       "    <tr>\n",
       "      <th>25564</th>\n",
       "      <td>India</td>\n",
       "      <td>2018</td>\n",
       "      <td>2600.45</td>\n",
       "    </tr>\n",
       "    <tr>\n",
       "      <th>25565</th>\n",
       "      <td>India</td>\n",
       "      <td>2019</td>\n",
       "      <td>2626.46</td>\n",
       "    </tr>\n",
       "    <tr>\n",
       "      <th>25566</th>\n",
       "      <td>India</td>\n",
       "      <td>2020</td>\n",
       "      <td>2445.01</td>\n",
       "    </tr>\n",
       "    <tr>\n",
       "      <th>25567</th>\n",
       "      <td>India</td>\n",
       "      <td>2021</td>\n",
       "      <td>2709.68</td>\n",
       "    </tr>\n",
       "  </tbody>\n",
       "</table>\n",
       "<p>272 rows × 3 columns</p>\n",
       "</div>"
      ],
      "text/plain": [
       "      Country  Year   Total\n",
       "25296   India  1750    0.00\n",
       "25297   India  1751    0.00\n",
       "25298   India  1752    0.00\n",
       "25299   India  1753    0.00\n",
       "25300   India  1754    0.00\n",
       "...       ...   ...     ...\n",
       "25563   India  2017 2434.87\n",
       "25564   India  2018 2600.45\n",
       "25565   India  2019 2626.46\n",
       "25566   India  2020 2445.01\n",
       "25567   India  2021 2709.68\n",
       "\n",
       "[272 rows x 3 columns]"
      ]
     },
     "execution_count": 57,
     "metadata": {},
     "output_type": "execute_result"
    }
   ],
   "source": [
    " #Emissions in India\n",
    "dfx.query('Country==\"India\"')"
   ]
  },
  {
   "cell_type": "markdown",
   "id": "b5d84e76",
   "metadata": {},
   "source": [
    "We now create a line graph to see the increase of emissions starting from 1750 through 2021. "
   ]
  },
  {
   "cell_type": "code",
   "execution_count": 58,
   "id": "b6b44e8e",
   "metadata": {},
   "outputs": [
    {
     "data": {
      "text/html": [
       "<div>\n",
       "<style scoped>\n",
       "    .dataframe tbody tr th:only-of-type {\n",
       "        vertical-align: middle;\n",
       "    }\n",
       "\n",
       "    .dataframe tbody tr th {\n",
       "        vertical-align: top;\n",
       "    }\n",
       "\n",
       "    .dataframe thead th {\n",
       "        text-align: right;\n",
       "    }\n",
       "</style>\n",
       "<table border=\"1\" class=\"dataframe\">\n",
       "  <thead>\n",
       "    <tr style=\"text-align: right;\">\n",
       "      <th></th>\n",
       "      <th>Country</th>\n",
       "      <th>Year</th>\n",
       "      <th>Total</th>\n",
       "    </tr>\n",
       "  </thead>\n",
       "  <tbody>\n",
       "    <tr>\n",
       "      <th>25296</th>\n",
       "      <td>India</td>\n",
       "      <td>1750</td>\n",
       "      <td>0.00</td>\n",
       "    </tr>\n",
       "    <tr>\n",
       "      <th>25297</th>\n",
       "      <td>India</td>\n",
       "      <td>1751</td>\n",
       "      <td>0.00</td>\n",
       "    </tr>\n",
       "    <tr>\n",
       "      <th>25298</th>\n",
       "      <td>India</td>\n",
       "      <td>1752</td>\n",
       "      <td>0.00</td>\n",
       "    </tr>\n",
       "    <tr>\n",
       "      <th>25299</th>\n",
       "      <td>India</td>\n",
       "      <td>1753</td>\n",
       "      <td>0.00</td>\n",
       "    </tr>\n",
       "    <tr>\n",
       "      <th>25300</th>\n",
       "      <td>India</td>\n",
       "      <td>1754</td>\n",
       "      <td>0.00</td>\n",
       "    </tr>\n",
       "    <tr>\n",
       "      <th>...</th>\n",
       "      <td>...</td>\n",
       "      <td>...</td>\n",
       "      <td>...</td>\n",
       "    </tr>\n",
       "    <tr>\n",
       "      <th>25563</th>\n",
       "      <td>India</td>\n",
       "      <td>2017</td>\n",
       "      <td>2434.87</td>\n",
       "    </tr>\n",
       "    <tr>\n",
       "      <th>25564</th>\n",
       "      <td>India</td>\n",
       "      <td>2018</td>\n",
       "      <td>2600.45</td>\n",
       "    </tr>\n",
       "    <tr>\n",
       "      <th>25565</th>\n",
       "      <td>India</td>\n",
       "      <td>2019</td>\n",
       "      <td>2626.46</td>\n",
       "    </tr>\n",
       "    <tr>\n",
       "      <th>25566</th>\n",
       "      <td>India</td>\n",
       "      <td>2020</td>\n",
       "      <td>2445.01</td>\n",
       "    </tr>\n",
       "    <tr>\n",
       "      <th>25567</th>\n",
       "      <td>India</td>\n",
       "      <td>2021</td>\n",
       "      <td>2709.68</td>\n",
       "    </tr>\n",
       "  </tbody>\n",
       "</table>\n",
       "<p>272 rows × 3 columns</p>\n",
       "</div>"
      ],
      "text/plain": [
       "      Country  Year   Total\n",
       "25296   India  1750    0.00\n",
       "25297   India  1751    0.00\n",
       "25298   India  1752    0.00\n",
       "25299   India  1753    0.00\n",
       "25300   India  1754    0.00\n",
       "...       ...   ...     ...\n",
       "25563   India  2017 2434.87\n",
       "25564   India  2018 2600.45\n",
       "25565   India  2019 2626.46\n",
       "25566   India  2020 2445.01\n",
       "25567   India  2021 2709.68\n",
       "\n",
       "[272 rows x 3 columns]"
      ]
     },
     "execution_count": 58,
     "metadata": {},
     "output_type": "execute_result"
    }
   ],
   "source": [
    "india = dfx.query('Country==\"India\"')\n",
    "india"
   ]
  },
  {
   "cell_type": "code",
   "execution_count": 62,
   "id": "78566d37",
   "metadata": {},
   "outputs": [
    {
     "data": {
      "image/png": "[encoded data removed]",
      "text/plain": [
       "<Figure size 1600x1600 with 1 Axes>"
      ]
     },
     "metadata": {},
     "output_type": "display_data"
    }
   ],
   "source": [
    "#line graph representation of Emissions in India\n",
    "\n",
    "color='green'\n",
    "plot_2 = india.plot(x='Year', y='Total', figsize=(16,16), color= color)\n",
    "plot_2.set_ylabel('Total')\n",
    "plot_2.set_title('Emissions in India through 1750-2021')\n",
    "plt.show()"
   ]
  },
  {
   "cell_type": "markdown",
   "id": "e93d2d86",
   "metadata": {},
   "source": [
    "We will now find in which year India had thwe highest emissions."
   ]
  },
  {
   "cell_type": "code",
   "execution_count": 79,
   "id": "475958d0",
   "metadata": {},
   "outputs": [
    {
     "name": "stdout",
     "output_type": "stream",
     "text": [
      "The maximum emission value for India is: 2709.683625\n",
      "The maximum emissions in India were in the year : 2021\n"
     ]
    }
   ],
   "source": [
    "max_india = ddt[ddt['Country']=='India']['Total'].max()\n",
    "\n",
    "#print the result\n",
    "print(f\"The maximum emission value for India is: {max_india}\")\n",
    "\n",
    "max_india_year = ddt[ddt['Total']== max_india]['Year'].values[0]\n",
    "\n",
    "#print the result\n",
    "print(f\"The maximum emissions in India were in the year : {max_india_year}\")"
   ]
  },
  {
   "cell_type": "markdown",
   "id": "dec631a6",
   "metadata": {},
   "source": [
    "OBSERVATION: From the line graph that the carbon emissions have increased exponentially from year 1950 in the Indian subcontinent."
   ]
  },
  {
   "cell_type": "markdown",
   "id": "49f426da",
   "metadata": {},
   "source": [
    "We shall now look at the carbon emissions in USA and China seperately."
   ]
  },
  {
   "cell_type": "code",
   "execution_count": 64,
   "id": "ab087455",
   "metadata": {},
   "outputs": [
    {
     "data": {
      "text/html": [
       "<div>\n",
       "<style scoped>\n",
       "    .dataframe tbody tr th:only-of-type {\n",
       "        vertical-align: middle;\n",
       "    }\n",
       "\n",
       "    .dataframe tbody tr th {\n",
       "        vertical-align: top;\n",
       "    }\n",
       "\n",
       "    .dataframe thead th {\n",
       "        text-align: right;\n",
       "    }\n",
       "</style>\n",
       "<table border=\"1\" class=\"dataframe\">\n",
       "  <thead>\n",
       "    <tr style=\"text-align: right;\">\n",
       "      <th></th>\n",
       "      <th>Country</th>\n",
       "      <th>Year</th>\n",
       "      <th>Total</th>\n",
       "    </tr>\n",
       "  </thead>\n",
       "  <tbody>\n",
       "    <tr>\n",
       "      <th>59840</th>\n",
       "      <td>USA</td>\n",
       "      <td>1750</td>\n",
       "      <td>0.00</td>\n",
       "    </tr>\n",
       "    <tr>\n",
       "      <th>59841</th>\n",
       "      <td>USA</td>\n",
       "      <td>1751</td>\n",
       "      <td>0.00</td>\n",
       "    </tr>\n",
       "    <tr>\n",
       "      <th>59842</th>\n",
       "      <td>USA</td>\n",
       "      <td>1752</td>\n",
       "      <td>0.00</td>\n",
       "    </tr>\n",
       "    <tr>\n",
       "      <th>59843</th>\n",
       "      <td>USA</td>\n",
       "      <td>1753</td>\n",
       "      <td>0.00</td>\n",
       "    </tr>\n",
       "    <tr>\n",
       "      <th>59844</th>\n",
       "      <td>USA</td>\n",
       "      <td>1754</td>\n",
       "      <td>0.00</td>\n",
       "    </tr>\n",
       "    <tr>\n",
       "      <th>...</th>\n",
       "      <td>...</td>\n",
       "      <td>...</td>\n",
       "      <td>...</td>\n",
       "    </tr>\n",
       "    <tr>\n",
       "      <th>60107</th>\n",
       "      <td>USA</td>\n",
       "      <td>2017</td>\n",
       "      <td>5210.96</td>\n",
       "    </tr>\n",
       "    <tr>\n",
       "      <th>60108</th>\n",
       "      <td>USA</td>\n",
       "      <td>2018</td>\n",
       "      <td>5376.66</td>\n",
       "    </tr>\n",
       "    <tr>\n",
       "      <th>60109</th>\n",
       "      <td>USA</td>\n",
       "      <td>2019</td>\n",
       "      <td>5259.14</td>\n",
       "    </tr>\n",
       "    <tr>\n",
       "      <th>60110</th>\n",
       "      <td>USA</td>\n",
       "      <td>2020</td>\n",
       "      <td>4715.69</td>\n",
       "    </tr>\n",
       "    <tr>\n",
       "      <th>60111</th>\n",
       "      <td>USA</td>\n",
       "      <td>2021</td>\n",
       "      <td>5007.34</td>\n",
       "    </tr>\n",
       "  </tbody>\n",
       "</table>\n",
       "<p>272 rows × 3 columns</p>\n",
       "</div>"
      ],
      "text/plain": [
       "      Country  Year   Total\n",
       "59840     USA  1750    0.00\n",
       "59841     USA  1751    0.00\n",
       "59842     USA  1752    0.00\n",
       "59843     USA  1753    0.00\n",
       "59844     USA  1754    0.00\n",
       "...       ...   ...     ...\n",
       "60107     USA  2017 5210.96\n",
       "60108     USA  2018 5376.66\n",
       "60109     USA  2019 5259.14\n",
       "60110     USA  2020 4715.69\n",
       "60111     USA  2021 5007.34\n",
       "\n",
       "[272 rows x 3 columns]"
      ]
     },
     "execution_count": 64,
     "metadata": {},
     "output_type": "execute_result"
    }
   ],
   "source": [
    "USA = dfx.query('Country==\"USA\"')\n",
    "USA"
   ]
  },
  {
   "cell_type": "code",
   "execution_count": 65,
   "id": "5555d986",
   "metadata": {},
   "outputs": [
    {
     "data": {
      "image/png": "[encoded data removed]",
      "text/plain": [
       "<Figure size 1000x1000 with 1 Axes>"
      ]
     },
     "metadata": {},
     "output_type": "display_data"
    }
   ],
   "source": [
    "color='red'\n",
    "plot_3 = USA.plot(x='Year', y='Total', figsize=(10,10), color=color)\n",
    "plot_3.set_ylabel('Total Emissions')\n",
    "plot_3.set_title('Emissions in USA')\n",
    "plt.show()"
   ]
  },
  {
   "cell_type": "markdown",
   "id": "5778c7d1",
   "metadata": {},
   "source": [
    "We will see which is the largest value of emissions in Usa and in what year."
   ]
  },
  {
   "cell_type": "code",
   "execution_count": 81,
   "id": "2f46f940",
   "metadata": {},
   "outputs": [
    {
     "name": "stdout",
     "output_type": "stream",
     "text": [
      "The maximum emission value for USA is: 6137.603445\n",
      "The maximum emissions in USA were in the year : 2005\n"
     ]
    }
   ],
   "source": [
    "max_usa = ddt[ddt['Country']=='USA']['Total'].max()\n",
    "\n",
    "#print the result\n",
    "print(f\"The maximum emission value for USA is: {max_usa}\")\n",
    "\n",
    "max_usa_year = ddt[ddt['Total']== max_usa]['Year'].values[0]\n",
    "\n",
    "#print the result\n",
    "print(f\"The maximum emissions in USA were in the year : {max_usa_year}\")"
   ]
  },
  {
   "cell_type": "markdown",
   "id": "fce24a61",
   "metadata": {},
   "source": [
    "OBSERVATION: The emission starts to increase from the year 1900 but gradually decreases due to active concern about the environment and taking measures to reduce carbon emission rate. The value again increases around the year 1950 and on reaching the year 2000 the total emissions reach 6000.After 2000, again measures are taken to reduce the impact of industrialisation to reduce the total emissions."
   ]
  },
  {
   "cell_type": "markdown",
   "id": "fbbe5d61",
   "metadata": {},
   "source": [
    "We will now plot the line graph for china."
   ]
  },
  {
   "cell_type": "code",
   "execution_count": 66,
   "id": "113d01fe",
   "metadata": {},
   "outputs": [
    {
     "data": {
      "text/html": [
       "<div>\n",
       "<style scoped>\n",
       "    .dataframe tbody tr th:only-of-type {\n",
       "        vertical-align: middle;\n",
       "    }\n",
       "\n",
       "    .dataframe tbody tr th {\n",
       "        vertical-align: top;\n",
       "    }\n",
       "\n",
       "    .dataframe thead th {\n",
       "        text-align: right;\n",
       "    }\n",
       "</style>\n",
       "<table border=\"1\" class=\"dataframe\">\n",
       "  <thead>\n",
       "    <tr style=\"text-align: right;\">\n",
       "      <th></th>\n",
       "      <th>Country</th>\n",
       "      <th>Year</th>\n",
       "      <th>Total</th>\n",
       "    </tr>\n",
       "  </thead>\n",
       "  <tbody>\n",
       "    <tr>\n",
       "      <th>10608</th>\n",
       "      <td>China</td>\n",
       "      <td>1750</td>\n",
       "      <td>0.00</td>\n",
       "    </tr>\n",
       "    <tr>\n",
       "      <th>10609</th>\n",
       "      <td>China</td>\n",
       "      <td>1751</td>\n",
       "      <td>0.00</td>\n",
       "    </tr>\n",
       "    <tr>\n",
       "      <th>10610</th>\n",
       "      <td>China</td>\n",
       "      <td>1752</td>\n",
       "      <td>0.00</td>\n",
       "    </tr>\n",
       "    <tr>\n",
       "      <th>10611</th>\n",
       "      <td>China</td>\n",
       "      <td>1753</td>\n",
       "      <td>0.00</td>\n",
       "    </tr>\n",
       "    <tr>\n",
       "      <th>10612</th>\n",
       "      <td>China</td>\n",
       "      <td>1754</td>\n",
       "      <td>0.00</td>\n",
       "    </tr>\n",
       "    <tr>\n",
       "      <th>...</th>\n",
       "      <td>...</td>\n",
       "      <td>...</td>\n",
       "      <td>...</td>\n",
       "    </tr>\n",
       "    <tr>\n",
       "      <th>10875</th>\n",
       "      <td>China</td>\n",
       "      <td>2017</td>\n",
       "      <td>10011.11</td>\n",
       "    </tr>\n",
       "    <tr>\n",
       "      <th>10876</th>\n",
       "      <td>China</td>\n",
       "      <td>2018</td>\n",
       "      <td>10353.88</td>\n",
       "    </tr>\n",
       "    <tr>\n",
       "      <th>10877</th>\n",
       "      <td>China</td>\n",
       "      <td>2019</td>\n",
       "      <td>10741.00</td>\n",
       "    </tr>\n",
       "    <tr>\n",
       "      <th>10878</th>\n",
       "      <td>China</td>\n",
       "      <td>2020</td>\n",
       "      <td>10956.21</td>\n",
       "    </tr>\n",
       "    <tr>\n",
       "      <th>10879</th>\n",
       "      <td>China</td>\n",
       "      <td>2021</td>\n",
       "      <td>11472.37</td>\n",
       "    </tr>\n",
       "  </tbody>\n",
       "</table>\n",
       "<p>272 rows × 3 columns</p>\n",
       "</div>"
      ],
      "text/plain": [
       "      Country  Year    Total\n",
       "10608   China  1750     0.00\n",
       "10609   China  1751     0.00\n",
       "10610   China  1752     0.00\n",
       "10611   China  1753     0.00\n",
       "10612   China  1754     0.00\n",
       "...       ...   ...      ...\n",
       "10875   China  2017 10011.11\n",
       "10876   China  2018 10353.88\n",
       "10877   China  2019 10741.00\n",
       "10878   China  2020 10956.21\n",
       "10879   China  2021 11472.37\n",
       "\n",
       "[272 rows x 3 columns]"
      ]
     },
     "execution_count": 66,
     "metadata": {},
     "output_type": "execute_result"
    }
   ],
   "source": [
    "china = dfx.query('Country==\"China\"')\n",
    "china"
   ]
  },
  {
   "cell_type": "code",
   "execution_count": 69,
   "id": "2a0ee88f",
   "metadata": {},
   "outputs": [
    {
     "data": {
      "image/png": "[encoded data removed]",
      "text/plain": [
       "<Figure size 1000x1000 with 1 Axes>"
      ]
     },
     "metadata": {},
     "output_type": "display_data"
    }
   ],
   "source": [
    "color='blue'\n",
    "plot_4=china.plot(x='Year',y='Total',figsize=(10,10),color=color)\n",
    "plot_4.set_ylabel('Total Emissions')\n",
    "plot_4.set_title('Emissions in China 1750-2021')\n",
    "plt.show()"
   ]
  },
  {
   "cell_type": "markdown",
   "id": "b2a848eb",
   "metadata": {},
   "source": [
    "We will see in which year the carbon emissions were highest for China"
   ]
  },
  {
   "cell_type": "code",
   "execution_count": 83,
   "id": "08420841",
   "metadata": {},
   "outputs": [
    {
     "name": "stdout",
     "output_type": "stream",
     "text": [
      "The maximum total emission value for China is: 11472.369171\n",
      "The maximum total emissions in China were in the year : 2021\n"
     ]
    }
   ],
   "source": [
    "max_china = ddt[ddt['Country']=='China']['Total'].max()\n",
    "\n",
    "#print the result\n",
    "print(f\"The maximum total emission value for China is: {max_china}\")\n",
    "\n",
    "max_china_year = ddt[ddt['Total']== max_china]['Year'].values[0]\n",
    "\n",
    "#print the result\n",
    "print(f\"The maximum total emissions in China were in the year : {max_china_year}\")"
   ]
  },
  {
   "cell_type": "markdown",
   "id": "a8c6e7ce",
   "metadata": {},
   "source": [
    "OBSERVATION: There was a steap rise in the emissions after 1950 and which exponentially increased in the future.We can also refer to the industrialisation that happened in China and a lot of import and export of products which increased the carbon emission rate."
   ]
  },
  {
   "cell_type": "markdown",
   "id": "88581bce",
   "metadata": {},
   "source": [
    "Now we will plot the graph for all the top 10 countries together."
   ]
  },
  {
   "cell_type": "code",
   "execution_count": 73,
   "id": "cb03c390",
   "metadata": {},
   "outputs": [
    {
     "data": {
      "image/png": "[encoded data removed]",
      "text/plain": [
       "<Figure size 1000x1000 with 1 Axes>"
      ]
     },
     "metadata": {},
     "output_type": "display_data"
    }
   ],
   "source": [
    "#create a dataframe from figure\n",
    "plt.figure(figsize=(10,10))\n",
    "ddt=co2.copy()\n",
    "\n",
    "df=ddt[ddt['Country'].isin(['USA','China','Russia','Germany','United Kingdom','Japan','International Transport','India','France','Canada'])]\n",
    "grouped = df.groupby(\"Country\")\n",
    "\n",
    "#plot the line graph for each country\n",
    "for name,group in grouped:\n",
    "    plt.plot(group['Year'], group['Total'],label=name)\n",
    "#adding title xaxis,yaxis\n",
    "plt.ylabel('Total')\n",
    "plt.xlabel('Year')\n",
    "plt.title('Emission by Country and Year')\n",
    "\n",
    "plt.legend()\n",
    "\n",
    "plt.show()"
   ]
  },
  {
   "cell_type": "markdown",
   "id": "224d1f80",
   "metadata": {},
   "source": [
    "OBSERVATION: We see that from the year 2000, there is a steap rise in the emissions as compared to USA. But the total emissions in USA were higher than that in China. Therefore the result."
   ]
  },
  {
   "cell_type": "markdown",
   "id": "01d4af4d",
   "metadata": {},
   "source": [
    "## OIL CO2 EMISSIONS ANALYSIS"
   ]
  },
  {
   "cell_type": "code",
   "execution_count": 74,
   "id": "46a93fdd",
   "metadata": {},
   "outputs": [
    {
     "data": {
      "image/png": "[encoded data removed]",
      "text/plain": [
       "<Figure size 1000x1000 with 1 Axes>"
      ]
     },
     "metadata": {},
     "output_type": "display_data"
    }
   ],
   "source": [
    "plt.figure(figsize=(10,10))\n",
    "df=ddt[ddt['Country'].isin(['USA','China','Russia','Germany','United Kingdom','Japan','International Transport','India','France','Canada'])]\n",
    "\n",
    "grouped = df.groupby(\"Country\")\n",
    "\n",
    "#plot the line graph for each country\n",
    "for name,group in grouped:\n",
    "    plt.plot(group['Year'], group['Oil'],label=name)\n",
    "#adding title xaxis,yaxis\n",
    "plt.ylabel('Oil')\n",
    "plt.xlabel('Year')\n",
    "plt.title('Emission by Country and Year')\n",
    "\n",
    "plt.legend()\n",
    "\n",
    "plt.show()"
   ]
  },
  {
   "cell_type": "markdown",
   "id": "38063c88",
   "metadata": {},
   "source": [
    "OBSERVATION: Usa has the highest emission rate."
   ]
  },
  {
   "cell_type": "markdown",
   "id": "33e8abd7",
   "metadata": {},
   "source": [
    "# GAS CO2 EMISSIONS ANALYSIS"
   ]
  },
  {
   "cell_type": "code",
   "execution_count": 76,
   "id": "3b5b1e2d",
   "metadata": {},
   "outputs": [
    {
     "data": {
      "image/png": "[encoded data removed]",
      "text/plain": [
       "<Figure size 1000x1000 with 1 Axes>"
      ]
     },
     "metadata": {},
     "output_type": "display_data"
    }
   ],
   "source": [
    "plt.figure(figsize=(10,10))\n",
    "grouped = df.groupby(\"Country\")\n",
    "df=ddt[ddt['Country'].isin(['USA','China','Russia','Germany','United Kingdom','Japan','International Transport','India','France','Canada'])]\n",
    "\n",
    "#plot the line graph for each country\n",
    "for name,group in grouped:\n",
    "    plt.plot(group['Year'], group['Gas'],label=name)\n",
    "#adding title xaxis,yaxis\n",
    "plt.ylabel('Gas')\n",
    "plt.xlabel('Year')\n",
    "plt.title('Emission by Country and Year')\n",
    "\n",
    "plt.legend()\n",
    "\n",
    "plt.show()"
   ]
  },
  {
   "cell_type": "markdown",
   "id": "a63d58c5",
   "metadata": {},
   "source": [
    "OBSERAVTION: The largest gas emissions is by USA followed by Russia."
   ]
  },
  {
   "cell_type": "markdown",
   "id": "41399828",
   "metadata": {},
   "source": [
    "## SUMMARY OF THE ANALYSIS:\n",
    "\n",
    "1. Tha bar plot shows the top 10 countries where the emissions are highest in the year 1750-2021. USA stands first among the total carbon emissions followed by China.\n",
    "\n",
    "2. We examined the total carbon emissions rate in India (1750-2021). We found that there is an exponential rise in the carbon emissions immediately after 2000s which continues thereafter. The maximum emission value for India is: 2709.683625. The maximum emissions in India were in the year : 2021.\n",
    "\n",
    "3. We examined the total emissions in the highest emission value countries i.e. USA and China respectively. For USA, The maximum emission value is: 6137.603445 and the maximum emissions in USA were in the year : 2005. For China, the maximum total emission value is: 11472.369171. The maximum total emissions in China were in the year : 2021.\n",
    "\n",
    "4. We also analysed the Oil and Gas emissions seperately. For Oil emissions, the line graph was plot for all the top 10 Countries . We observed that USA has the highest oil emissions followed by China. For Gas emissions, USA leads the line graph followed by Russia.\n",
    "\n",
    "5. International Transport has the least emission rate.\n"
   ]
  },
  {
   "cell_type": "code",
   "execution_count": null,
   "id": "3ef9e0f5",
   "metadata": {},
   "outputs": [],
   "source": []
  }
 ],
 "metadata": {
  "kernelspec": {
   "display_name": "Python 3 (ipykernel)",
   "language": "python",
   "name": "python3"
  },
  "language_info": {
   "codemirror_mode": {
    "name": "ipython",
    "version": 3
   },
   "file_extension": ".py",
   "mimetype": "text/x-python",
   "name": "python",
   "nbconvert_exporter": "python",
   "pygments_lexer": "ipython3",
   "version": "3.9.13"
  }
 },
 "nbformat": 4,
 "nbformat_minor": 5
}
